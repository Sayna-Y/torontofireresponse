{
 "cells": [
  {
   "cell_type": "markdown",
   "id": "ad249be0",
   "metadata": {},
   "source": [
    "# An Analysis of the City of Toronto’s Fire Response between 2011-2019 \n",
    "## by The City of Toronto Department of Pandas¶\n",
    "\n",
    "The goal of this project is to create a predictive model capable of determining response time given inputs such as day, time, or location. Exploratory data analysis is iterative, therefore, until our exploratory data analysis is conducted, we will not know exactly which features will be used to implement the model, nor do we know exactly what type of prediction model will be used (e.g., linear regression, logistic regression, or other approaches as suitable). However, an example of our anticipated model can be seen below. \n",
    "\n",
    "###  Objectives\n",
    "The questions we hope to answer with our exploratory data analysis are: \n",
    "- Are there temporal trends in factors such as response time, damages, or other relevant factors? \n",
    "\n",
    "- Identify the characteristics of fires with extensive damage/casualties. What factors make a fire most/least likely to cause extensive damage/casualties? \n",
    "\n",
    "- Analyze and intersect our datasets to find the closest TFS station to each fire. Stations that frequently fail to respond in a timely manner to nearby fires may require more resources from the city. \n",
    "\n",
    "- Identify the common fire incidents and causes in each ward. \n",
    "\n",
    "- Optional: Is there a correlation between the resources TFS deploys (number of personnel, vehicles, etc.) during incidents and damages (such as casualties/financial)?  \n",
    "\n",
    "- Optional: Overlay incidents with socio-economic profiles of each neighborhood and analyze whether TFS services are equally and equitably distributed across the city. Are TFS services biased when responding to certain incidents or wards of the city?\n",
    "- test - Sami"
   ]
  },
  {
   "cell_type": "markdown",
   "id": "7bd11ac2",
   "metadata": {},
   "source": [
    "## Setup Notebook"
   ]
  },
  {
   "cell_type": "code",
   "execution_count": 1,
   "outputs": [
    {
     "name": "stdout",
     "output_type": "stream",
     "text": [
      "Requirement already satisfied: geopandas in /Users/samilevalley/opt/anaconda3/envs/assignment3/lib/python3.10/site-packages (0.12.1)\r\n",
      "Requirement already satisfied: pandas>=1.0.0 in /Users/samilevalley/opt/anaconda3/envs/assignment3/lib/python3.10/site-packages (from geopandas) (1.4.4)\r\n",
      "Requirement already satisfied: pyproj>=2.6.1.post1 in /Users/samilevalley/opt/anaconda3/envs/assignment3/lib/python3.10/site-packages (from geopandas) (3.4.0)\r\n",
      "Requirement already satisfied: fiona>=1.8 in /Users/samilevalley/opt/anaconda3/envs/assignment3/lib/python3.10/site-packages (from geopandas) (1.8.22)\r\n",
      "Requirement already satisfied: shapely>=1.7 in /Users/samilevalley/opt/anaconda3/envs/assignment3/lib/python3.10/site-packages (from geopandas) (1.8.5.post1)\r\n",
      "Requirement already satisfied: packaging in /Users/samilevalley/opt/anaconda3/envs/assignment3/lib/python3.10/site-packages (from geopandas) (21.3)\r\n",
      "Requirement already satisfied: certifi in /Users/samilevalley/opt/anaconda3/envs/assignment3/lib/python3.10/site-packages (from fiona>=1.8->geopandas) (2022.9.24)\r\n",
      "Requirement already satisfied: setuptools in /Users/samilevalley/opt/anaconda3/envs/assignment3/lib/python3.10/site-packages (from fiona>=1.8->geopandas) (63.4.1)\r\n",
      "Requirement already satisfied: cligj>=0.5 in /Users/samilevalley/opt/anaconda3/envs/assignment3/lib/python3.10/site-packages (from fiona>=1.8->geopandas) (0.7.2)\r\n",
      "Requirement already satisfied: munch in /Users/samilevalley/opt/anaconda3/envs/assignment3/lib/python3.10/site-packages (from fiona>=1.8->geopandas) (2.5.0)\r\n",
      "Requirement already satisfied: attrs>=17 in /Users/samilevalley/opt/anaconda3/envs/assignment3/lib/python3.10/site-packages (from fiona>=1.8->geopandas) (21.4.0)\r\n",
      "Requirement already satisfied: click-plugins>=1.0 in /Users/samilevalley/opt/anaconda3/envs/assignment3/lib/python3.10/site-packages (from fiona>=1.8->geopandas) (1.1.1)\r\n",
      "Requirement already satisfied: six>=1.7 in /Users/samilevalley/opt/anaconda3/envs/assignment3/lib/python3.10/site-packages (from fiona>=1.8->geopandas) (1.16.0)\r\n",
      "Requirement already satisfied: click>=4.0 in /Users/samilevalley/opt/anaconda3/envs/assignment3/lib/python3.10/site-packages (from fiona>=1.8->geopandas) (8.1.3)\r\n",
      "Requirement already satisfied: python-dateutil>=2.8.1 in /Users/samilevalley/opt/anaconda3/envs/assignment3/lib/python3.10/site-packages (from pandas>=1.0.0->geopandas) (2.8.2)\r\n",
      "Requirement already satisfied: pytz>=2020.1 in /Users/samilevalley/opt/anaconda3/envs/assignment3/lib/python3.10/site-packages (from pandas>=1.0.0->geopandas) (2022.1)\r\n",
      "Requirement already satisfied: numpy>=1.21.0 in /Users/samilevalley/opt/anaconda3/envs/assignment3/lib/python3.10/site-packages (from pandas>=1.0.0->geopandas) (1.23.1)\r\n",
      "Requirement already satisfied: pyparsing!=3.0.5,>=2.0.2 in /Users/samilevalley/opt/anaconda3/envs/assignment3/lib/python3.10/site-packages (from packaging->geopandas) (3.0.9)\r\n",
      "Note: you may need to restart the kernel to use updated packages.\n"
     ]
    }
   ],
   "source": [
    "pip install geopandas"
   ],
   "metadata": {
    "collapsed": false
   }
  },
  {
   "cell_type": "code",
   "execution_count": 2,
   "outputs": [],
   "source": [
    "# Import 3rd party libraries\n",
    "import os\n",
    "import numpy as np\n",
    "import pandas as pd\n",
    "import seaborn as sns\n",
    "import matplotlib.pyplot as plt\n",
    "import geopandas as gpd\n",
    "\n",
    "# Configure Notebook\n",
    "%matplotlib inline\n",
    "plt.style.use('fivethirtyeight')\n",
    "sns.set_context(\"notebook\")\n",
    "import warnings\n",
    "warnings.filterwarnings('ignore')"
   ],
   "metadata": {
    "collapsed": false
   }
  },
  {
   "cell_type": "markdown",
   "source": [
    "# Overview\n",
    "\n",
    "The primary dataset to be used for this project includes information about Toronto’s Fire Incidents (https://open.toronto.ca/dataset/fire-incidents/). This data is a .csv file from the City of Toronto’s open data portal with details of over 17,000 fire incidents between January 1, 2011, to June 30, 2019. The dataset contains 43 columns that describe the geographic location of the fire, the TFS response, impact of the fire, suspected cause, and details of the site (e.g., building condition and presence of sprinklers or alarms). The dataset contains categorical variables, many null values, and string values in many of the columns. Extensive data cleaning and data wrangling as well as feature engineering is needed for this project. Feature engineering techniques such as categorical encoding, datetime extraction, imputation, etc. will be used for this project. The appendix shows the data types and categories of each of the columns in the dataset.\n",
    "\n",
    "The rest of the datasets described in this paragraph are secondary datasets that will only be used if time allows. The second dataset is the City of Toronto Wards data which includes spatial boundaries that we can overlay with the fire incident data for visualization purposes (https://open.toronto.ca/dataset/city-wards/). The third dataset is a .GeoJSON file with Toronto Fire station locations (https://open.toronto.ca/dataset/fire-station-locations/). Finally, if time allows, we will use a fourth dataset of Toronto’s neighbourhoods which includes information on variables such as income, population, household type, and education (https://open.toronto.ca/dataset/neighbourhood-profiles/).\n",
    "\n",
    "# Import Data\n",
    "Let's import the training datasets.\n",
    "\n",
    "### Toronto Fire Incidents"
   ],
   "metadata": {
    "collapsed": false
   }
  },
  {
   "cell_type": "code",
   "execution_count": 3,
   "id": "f20e76f8",
   "metadata": {},
   "outputs": [],
   "source": [
    "fire_data = pd.read_csv('Fire Incidents Data.csv')"
   ]
  },
  {
   "cell_type": "code",
   "execution_count": 4,
   "outputs": [
    {
     "data": {
      "text/plain": "      _id                                     Area_of_Origin  \\\n0  578689                                   81 - Engine Area   \n1  578690                 75 - Trash, rubbish area (outside)   \n2  578691                                                NaN   \n3  578692                 75 - Trash, rubbish area (outside)   \n4  578693                                                NaN   \n5  578694                                   81 - Engine Area   \n6  578695  22 - Sleeping Area or Bedroom (inc. patients r...   \n7  578696           55 - Mechanical/Electrical Services Room   \n8  578697                                        28 - Office   \n9  578698                                                NaN   \n\n           Building_Status                          Business_Impact  \\\n0                      NaN                                      NaN   \n1                      NaN                                      NaN   \n2                      NaN                                      NaN   \n3  01 - Normal (no change)             1 - No business interruption   \n4                      NaN                                      NaN   \n5                      NaN                                      NaN   \n6  01 - Normal (no change)             1 - No business interruption   \n7  01 - Normal (no change)  2 - May resume operations within a week   \n8  01 - Normal (no change)             1 - No business interruption   \n9                      NaN                                      NaN   \n\n   Civilian_Casualties  Count_of_Persons_Rescued  Estimated_Dollar_Loss  \\\n0                    0                         0                15000.0   \n1                    0                         0                   50.0   \n2                    0                         0                    NaN   \n3                    0                         0                    0.0   \n4                    0                         0                    NaN   \n5                    0                         0                 1500.0   \n6                    0                         0                 2000.0   \n7                    0                         0               100000.0   \n8                    0                         0                 5000.0   \n9                    0                         0                    NaN   \n\n   Estimated_Number_Of_Persons_Displaced  Exposures  \\\n0                                    NaN        NaN   \n1                                    NaN        NaN   \n2                                    NaN        NaN   \n3                                    0.0        NaN   \n4                                    NaN        NaN   \n5                                    NaN        NaN   \n6                                    0.0        NaN   \n7                                    0.0        NaN   \n8                                    0.0        NaN   \n9                                    NaN        NaN   \n\n  Ext_agent_app_or_defer_time  ...  \\\n0         2018-02-24T21:12:00  ...   \n1         2018-02-24T21:29:42  ...   \n2                         NaN  ...   \n3         2018-02-25T14:19:25  ...   \n4                         NaN  ...   \n5         2018-02-25T18:38:00  ...   \n6         2018-02-26T18:28:00  ...   \n7         2018-02-27T10:57:32  ...   \n8         2018-02-25T15:57:00  ...   \n9                         NaN  ...   \n\n            Smoke_Alarm_at_Fire_Origin_Alarm_Failure  \\\n0                                                NaN   \n1                                                NaN   \n2                                                NaN   \n3  98 - Not applicable: Alarm operated OR presenc...   \n4                                                NaN   \n5                                                NaN   \n6  98 - Not applicable: Alarm operated OR presenc...   \n7  98 - Not applicable: Alarm operated OR presenc...   \n8  98 - Not applicable: Alarm operated OR presenc...   \n9                                                NaN   \n\n               Smoke_Alarm_at_Fire_Origin_Alarm_Type  \\\n0                                                NaN   \n1                                                NaN   \n2                                                NaN   \n3                              9 - Type undetermined   \n4                                                NaN   \n5                                                NaN   \n6  8 - Not applicable - no smoke alarm or presenc...   \n7  8 - Not applicable - no smoke alarm or presenc...   \n8                         2 - Hardwired (standalone)   \n9                                                NaN   \n\n  Smoke_Alarm_Impact_on_Persons_Evacuating_Impact_on_Evacuation  \\\n0                                                NaN              \n1                                                NaN              \n2                                                NaN              \n3   8 - Not applicable: No alarm, no persons present              \n4                                                NaN              \n5                                                NaN              \n6  7 - Not applicable: Occupant(s) first alerted ...              \n7  2 - Some persons (at risk) self evacuated as a...              \n8  1 - All persons (at risk of injury) self evacu...              \n9                                                NaN              \n\n                                       Smoke_Spread  \\\n0                                               NaN   \n1                                               NaN   \n2                                               NaN   \n3                                 99 - Undetermined   \n4                                               NaN   \n5                                               NaN   \n6       2 - Confined to part of room/area of origin   \n7  7 - Spread to other floors, confined to building   \n8      4 - Spread beyond room of origin, same floor   \n9                                               NaN   \n\n                          Sprinkler_System_Operation  \\\n0                                                NaN   \n1                                                NaN   \n2                                                NaN   \n3   8 - Not applicable - no sprinkler system present   \n4                                                NaN   \n5                                                NaN   \n6   8 - Not applicable - no sprinkler system present   \n7   8 - Not applicable - no sprinkler system present   \n8  3 - Did not activate: fire too small to trigge...   \n9                                                NaN   \n\n           Sprinkler_System_Presence  \\\n0                                NaN   \n1                                NaN   \n2                                NaN   \n3                   9 - Undetermined   \n4                                NaN   \n5                                NaN   \n6            3 - No sprinkler system   \n7            3 - No sprinkler system   \n8  1 - Full sprinkler system present   \n9                                NaN   \n\n                           Status_of_Fire_On_Arrival       TFS_Alarm_Time  \\\n0  7 - Fully involved (total structure, vehicle, ...  2018-02-24T21:04:29   \n1              2 - Fire with no evidence from street  2018-02-24T21:24:43   \n2                                                NaN  2018-02-25T13:29:59   \n3  3 - Fire with smoke showing only - including v...  2018-02-25T14:13:39   \n4                                                NaN  2018-02-25T18:20:43   \n5  4 - Flames showing from small area (one storey...  2018-02-25T18:31:19   \n6              2 - Fire with no evidence from street  2018-02-26T18:18:55   \n7              2 - Fire with no evidence from street  2018-02-27T10:28:12   \n8  4 - Flames showing from small area (one storey...  2018-02-25T15:48:34   \n9                                                NaN  2018-02-26T15:32:11   \n\n      TFS_Arrival_Time  TFS_Firefighter_Casualties  \n0  2018-02-24T21:10:11                           0  \n1  2018-02-24T21:29:31                           0  \n2  2018-02-25T13:36:49                           0  \n3  2018-02-25T14:18:07                           0  \n4  2018-02-25T18:26:19                           0  \n5  2018-02-25T18:35:17                           0  \n6  2018-02-26T18:24:47                           0  \n7  2018-02-27T10:35:13                           0  \n8  2018-02-25T15:52:04                           0  \n9  2018-02-26T15:37:40                           0  \n\n[10 rows x 43 columns]",
      "text/html": "<div>\n<style scoped>\n    .dataframe tbody tr th:only-of-type {\n        vertical-align: middle;\n    }\n\n    .dataframe tbody tr th {\n        vertical-align: top;\n    }\n\n    .dataframe thead th {\n        text-align: right;\n    }\n</style>\n<table border=\"1\" class=\"dataframe\">\n  <thead>\n    <tr style=\"text-align: right;\">\n      <th></th>\n      <th>_id</th>\n      <th>Area_of_Origin</th>\n      <th>Building_Status</th>\n      <th>Business_Impact</th>\n      <th>Civilian_Casualties</th>\n      <th>Count_of_Persons_Rescued</th>\n      <th>Estimated_Dollar_Loss</th>\n      <th>Estimated_Number_Of_Persons_Displaced</th>\n      <th>Exposures</th>\n      <th>Ext_agent_app_or_defer_time</th>\n      <th>...</th>\n      <th>Smoke_Alarm_at_Fire_Origin_Alarm_Failure</th>\n      <th>Smoke_Alarm_at_Fire_Origin_Alarm_Type</th>\n      <th>Smoke_Alarm_Impact_on_Persons_Evacuating_Impact_on_Evacuation</th>\n      <th>Smoke_Spread</th>\n      <th>Sprinkler_System_Operation</th>\n      <th>Sprinkler_System_Presence</th>\n      <th>Status_of_Fire_On_Arrival</th>\n      <th>TFS_Alarm_Time</th>\n      <th>TFS_Arrival_Time</th>\n      <th>TFS_Firefighter_Casualties</th>\n    </tr>\n  </thead>\n  <tbody>\n    <tr>\n      <th>0</th>\n      <td>578689</td>\n      <td>81 - Engine Area</td>\n      <td>NaN</td>\n      <td>NaN</td>\n      <td>0</td>\n      <td>0</td>\n      <td>15000.0</td>\n      <td>NaN</td>\n      <td>NaN</td>\n      <td>2018-02-24T21:12:00</td>\n      <td>...</td>\n      <td>NaN</td>\n      <td>NaN</td>\n      <td>NaN</td>\n      <td>NaN</td>\n      <td>NaN</td>\n      <td>NaN</td>\n      <td>7 - Fully involved (total structure, vehicle, ...</td>\n      <td>2018-02-24T21:04:29</td>\n      <td>2018-02-24T21:10:11</td>\n      <td>0</td>\n    </tr>\n    <tr>\n      <th>1</th>\n      <td>578690</td>\n      <td>75 - Trash, rubbish area (outside)</td>\n      <td>NaN</td>\n      <td>NaN</td>\n      <td>0</td>\n      <td>0</td>\n      <td>50.0</td>\n      <td>NaN</td>\n      <td>NaN</td>\n      <td>2018-02-24T21:29:42</td>\n      <td>...</td>\n      <td>NaN</td>\n      <td>NaN</td>\n      <td>NaN</td>\n      <td>NaN</td>\n      <td>NaN</td>\n      <td>NaN</td>\n      <td>2 - Fire with no evidence from street</td>\n      <td>2018-02-24T21:24:43</td>\n      <td>2018-02-24T21:29:31</td>\n      <td>0</td>\n    </tr>\n    <tr>\n      <th>2</th>\n      <td>578691</td>\n      <td>NaN</td>\n      <td>NaN</td>\n      <td>NaN</td>\n      <td>0</td>\n      <td>0</td>\n      <td>NaN</td>\n      <td>NaN</td>\n      <td>NaN</td>\n      <td>NaN</td>\n      <td>...</td>\n      <td>NaN</td>\n      <td>NaN</td>\n      <td>NaN</td>\n      <td>NaN</td>\n      <td>NaN</td>\n      <td>NaN</td>\n      <td>NaN</td>\n      <td>2018-02-25T13:29:59</td>\n      <td>2018-02-25T13:36:49</td>\n      <td>0</td>\n    </tr>\n    <tr>\n      <th>3</th>\n      <td>578692</td>\n      <td>75 - Trash, rubbish area (outside)</td>\n      <td>01 - Normal (no change)</td>\n      <td>1 - No business interruption</td>\n      <td>0</td>\n      <td>0</td>\n      <td>0.0</td>\n      <td>0.0</td>\n      <td>NaN</td>\n      <td>2018-02-25T14:19:25</td>\n      <td>...</td>\n      <td>98 - Not applicable: Alarm operated OR presenc...</td>\n      <td>9 - Type undetermined</td>\n      <td>8 - Not applicable: No alarm, no persons present</td>\n      <td>99 - Undetermined</td>\n      <td>8 - Not applicable - no sprinkler system present</td>\n      <td>9 - Undetermined</td>\n      <td>3 - Fire with smoke showing only - including v...</td>\n      <td>2018-02-25T14:13:39</td>\n      <td>2018-02-25T14:18:07</td>\n      <td>0</td>\n    </tr>\n    <tr>\n      <th>4</th>\n      <td>578693</td>\n      <td>NaN</td>\n      <td>NaN</td>\n      <td>NaN</td>\n      <td>0</td>\n      <td>0</td>\n      <td>NaN</td>\n      <td>NaN</td>\n      <td>NaN</td>\n      <td>NaN</td>\n      <td>...</td>\n      <td>NaN</td>\n      <td>NaN</td>\n      <td>NaN</td>\n      <td>NaN</td>\n      <td>NaN</td>\n      <td>NaN</td>\n      <td>NaN</td>\n      <td>2018-02-25T18:20:43</td>\n      <td>2018-02-25T18:26:19</td>\n      <td>0</td>\n    </tr>\n    <tr>\n      <th>5</th>\n      <td>578694</td>\n      <td>81 - Engine Area</td>\n      <td>NaN</td>\n      <td>NaN</td>\n      <td>0</td>\n      <td>0</td>\n      <td>1500.0</td>\n      <td>NaN</td>\n      <td>NaN</td>\n      <td>2018-02-25T18:38:00</td>\n      <td>...</td>\n      <td>NaN</td>\n      <td>NaN</td>\n      <td>NaN</td>\n      <td>NaN</td>\n      <td>NaN</td>\n      <td>NaN</td>\n      <td>4 - Flames showing from small area (one storey...</td>\n      <td>2018-02-25T18:31:19</td>\n      <td>2018-02-25T18:35:17</td>\n      <td>0</td>\n    </tr>\n    <tr>\n      <th>6</th>\n      <td>578695</td>\n      <td>22 - Sleeping Area or Bedroom (inc. patients r...</td>\n      <td>01 - Normal (no change)</td>\n      <td>1 - No business interruption</td>\n      <td>0</td>\n      <td>0</td>\n      <td>2000.0</td>\n      <td>0.0</td>\n      <td>NaN</td>\n      <td>2018-02-26T18:28:00</td>\n      <td>...</td>\n      <td>98 - Not applicable: Alarm operated OR presenc...</td>\n      <td>8 - Not applicable - no smoke alarm or presenc...</td>\n      <td>7 - Not applicable: Occupant(s) first alerted ...</td>\n      <td>2 - Confined to part of room/area of origin</td>\n      <td>8 - Not applicable - no sprinkler system present</td>\n      <td>3 - No sprinkler system</td>\n      <td>2 - Fire with no evidence from street</td>\n      <td>2018-02-26T18:18:55</td>\n      <td>2018-02-26T18:24:47</td>\n      <td>0</td>\n    </tr>\n    <tr>\n      <th>7</th>\n      <td>578696</td>\n      <td>55 - Mechanical/Electrical Services Room</td>\n      <td>01 - Normal (no change)</td>\n      <td>2 - May resume operations within a week</td>\n      <td>0</td>\n      <td>0</td>\n      <td>100000.0</td>\n      <td>0.0</td>\n      <td>NaN</td>\n      <td>2018-02-27T10:57:32</td>\n      <td>...</td>\n      <td>98 - Not applicable: Alarm operated OR presenc...</td>\n      <td>8 - Not applicable - no smoke alarm or presenc...</td>\n      <td>2 - Some persons (at risk) self evacuated as a...</td>\n      <td>7 - Spread to other floors, confined to building</td>\n      <td>8 - Not applicable - no sprinkler system present</td>\n      <td>3 - No sprinkler system</td>\n      <td>2 - Fire with no evidence from street</td>\n      <td>2018-02-27T10:28:12</td>\n      <td>2018-02-27T10:35:13</td>\n      <td>0</td>\n    </tr>\n    <tr>\n      <th>8</th>\n      <td>578697</td>\n      <td>28 - Office</td>\n      <td>01 - Normal (no change)</td>\n      <td>1 - No business interruption</td>\n      <td>0</td>\n      <td>0</td>\n      <td>5000.0</td>\n      <td>0.0</td>\n      <td>NaN</td>\n      <td>2018-02-25T15:57:00</td>\n      <td>...</td>\n      <td>98 - Not applicable: Alarm operated OR presenc...</td>\n      <td>2 - Hardwired (standalone)</td>\n      <td>1 - All persons (at risk of injury) self evacu...</td>\n      <td>4 - Spread beyond room of origin, same floor</td>\n      <td>3 - Did not activate: fire too small to trigge...</td>\n      <td>1 - Full sprinkler system present</td>\n      <td>4 - Flames showing from small area (one storey...</td>\n      <td>2018-02-25T15:48:34</td>\n      <td>2018-02-25T15:52:04</td>\n      <td>0</td>\n    </tr>\n    <tr>\n      <th>9</th>\n      <td>578698</td>\n      <td>NaN</td>\n      <td>NaN</td>\n      <td>NaN</td>\n      <td>0</td>\n      <td>0</td>\n      <td>NaN</td>\n      <td>NaN</td>\n      <td>NaN</td>\n      <td>NaN</td>\n      <td>...</td>\n      <td>NaN</td>\n      <td>NaN</td>\n      <td>NaN</td>\n      <td>NaN</td>\n      <td>NaN</td>\n      <td>NaN</td>\n      <td>NaN</td>\n      <td>2018-02-26T15:32:11</td>\n      <td>2018-02-26T15:37:40</td>\n      <td>0</td>\n    </tr>\n  </tbody>\n</table>\n<p>10 rows × 43 columns</p>\n</div>"
     },
     "execution_count": 4,
     "metadata": {},
     "output_type": "execute_result"
    }
   ],
   "source": [
    "fire_data.head(10)"
   ],
   "metadata": {
    "collapsed": false
   }
  },
  {
   "cell_type": "markdown",
   "source": [
    "### Toronto Wards\n",
    "\n",
    "For now, I have commented out the map plot until we need it again."
   ],
   "metadata": {
    "collapsed": false
   }
  },
  {
   "cell_type": "code",
   "execution_count": 5,
   "outputs": [
    {
     "data": {
      "text/plain": "   AREA_ID AREA_TYPE AREA_S_CD AREA_L_CD            AREA_NAME           X  \\\n0  2551040      WD18        16        16      Don Valley East  318237.290   \n1  2551044      WD18        03        03  Etobicoke-Lakeshore  303099.474   \n2  2551048      WD18        15        15      Don Valley West  314825.876   \n3  2551052      WD18        23        23    Scarborough North  324522.149   \n4  2551056      WD18        11        11  University-Rosedale  313306.543   \n\n           Y  LONGITUDE   LATITUDE  \\\n0  4844000.0  -79.33298  43.739716   \n1  4831000.0  -79.52087  43.621646   \n2  4843000.0  -79.37536  43.728396   \n3  4852000.0  -79.25467  43.809672   \n4  4837000.0  -79.39432  43.671139   \n\n                                            geometry  \n0  POLYGON ((-79.31335 43.71699, -79.31950 43.715...  \n1  POLYGON ((-79.49777 43.65198, -79.49725 43.651...  \n2  POLYGON ((-79.35232 43.71573, -79.35209 43.715...  \n3  POLYGON ((-79.22591 43.83960, -79.22556 43.839...  \n4  POLYGON ((-79.39004 43.69050, -79.39004 43.690...  ",
      "text/html": "<div>\n<style scoped>\n    .dataframe tbody tr th:only-of-type {\n        vertical-align: middle;\n    }\n\n    .dataframe tbody tr th {\n        vertical-align: top;\n    }\n\n    .dataframe thead th {\n        text-align: right;\n    }\n</style>\n<table border=\"1\" class=\"dataframe\">\n  <thead>\n    <tr style=\"text-align: right;\">\n      <th></th>\n      <th>AREA_ID</th>\n      <th>AREA_TYPE</th>\n      <th>AREA_S_CD</th>\n      <th>AREA_L_CD</th>\n      <th>AREA_NAME</th>\n      <th>X</th>\n      <th>Y</th>\n      <th>LONGITUDE</th>\n      <th>LATITUDE</th>\n      <th>geometry</th>\n    </tr>\n  </thead>\n  <tbody>\n    <tr>\n      <th>0</th>\n      <td>2551040</td>\n      <td>WD18</td>\n      <td>16</td>\n      <td>16</td>\n      <td>Don Valley East</td>\n      <td>318237.290</td>\n      <td>4844000.0</td>\n      <td>-79.33298</td>\n      <td>43.739716</td>\n      <td>POLYGON ((-79.31335 43.71699, -79.31950 43.715...</td>\n    </tr>\n    <tr>\n      <th>1</th>\n      <td>2551044</td>\n      <td>WD18</td>\n      <td>03</td>\n      <td>03</td>\n      <td>Etobicoke-Lakeshore</td>\n      <td>303099.474</td>\n      <td>4831000.0</td>\n      <td>-79.52087</td>\n      <td>43.621646</td>\n      <td>POLYGON ((-79.49777 43.65198, -79.49725 43.651...</td>\n    </tr>\n    <tr>\n      <th>2</th>\n      <td>2551048</td>\n      <td>WD18</td>\n      <td>15</td>\n      <td>15</td>\n      <td>Don Valley West</td>\n      <td>314825.876</td>\n      <td>4843000.0</td>\n      <td>-79.37536</td>\n      <td>43.728396</td>\n      <td>POLYGON ((-79.35232 43.71573, -79.35209 43.715...</td>\n    </tr>\n    <tr>\n      <th>3</th>\n      <td>2551052</td>\n      <td>WD18</td>\n      <td>23</td>\n      <td>23</td>\n      <td>Scarborough North</td>\n      <td>324522.149</td>\n      <td>4852000.0</td>\n      <td>-79.25467</td>\n      <td>43.809672</td>\n      <td>POLYGON ((-79.22591 43.83960, -79.22556 43.839...</td>\n    </tr>\n    <tr>\n      <th>4</th>\n      <td>2551056</td>\n      <td>WD18</td>\n      <td>11</td>\n      <td>11</td>\n      <td>University-Rosedale</td>\n      <td>313306.543</td>\n      <td>4837000.0</td>\n      <td>-79.39432</td>\n      <td>43.671139</td>\n      <td>POLYGON ((-79.39004 43.69050, -79.39004 43.690...</td>\n    </tr>\n  </tbody>\n</table>\n</div>"
     },
     "execution_count": 5,
     "metadata": {},
     "output_type": "execute_result"
    }
   ],
   "source": [
    "# Write your code here.\n",
    "ward = gpd.read_file('25-ward-model-december-2018-wgs84-latitude-longitude') #importing shapefile\n",
    "\n",
    "# # View GeoDataFrame\n",
    "ward.head()\n",
    "# ward.plot(figsize=(15, 8), edgecolor='w', alpha=0.75);"
   ],
   "metadata": {
    "collapsed": false
   }
  },
  {
   "cell_type": "markdown",
   "source": [
    "# Data Cleaning"
   ],
   "metadata": {
    "collapsed": false
   }
  },
  {
   "cell_type": "code",
   "execution_count": 6,
   "outputs": [
    {
     "data": {
      "text/plain": "      _id                      Area_of_Origin          Building_Status  \\\n0  578689                    81 - Engine Area                      NaN   \n1  578690  75 - Trash, rubbish area (outside)                      NaN   \n2  578691                                 NaN                      NaN   \n3  578692  75 - Trash, rubbish area (outside)  01 - Normal (no change)   \n4  578693                                 NaN                      NaN   \n\n                Business_Impact  Civilian_Casualties  \\\n0                           NaN                    0   \n1                           NaN                    0   \n2                           NaN                    0   \n3  1 - No business interruption                    0   \n4                           NaN                    0   \n\n   Count_of_Persons_Rescued  Estimated_Dollar_Loss  \\\n0                         0                15000.0   \n1                         0                   50.0   \n2                         0                    NaN   \n3                         0                    0.0   \n4                         0                    NaN   \n\n   Estimated_Number_Of_Persons_Displaced  Exposures  \\\n0                                    NaN        NaN   \n1                                    NaN        NaN   \n2                                    NaN        NaN   \n3                                    0.0        NaN   \n4                                    NaN        NaN   \n\n  Ext_agent_app_or_defer_time  ...  \\\n0         2018-02-24T21:12:00  ...   \n1         2018-02-24T21:29:42  ...   \n2                         NaN  ...   \n3         2018-02-25T14:19:25  ...   \n4                         NaN  ...   \n\n            Smoke_Alarm_at_Fire_Origin_Alarm_Failure  \\\n0                                                NaN   \n1                                                NaN   \n2                                                NaN   \n3  98 - Not applicable: Alarm operated OR presenc...   \n4                                                NaN   \n\n  Smoke_Alarm_at_Fire_Origin_Alarm_Type  \\\n0                                   NaN   \n1                                   NaN   \n2                                   NaN   \n3                 9 - Type undetermined   \n4                                   NaN   \n\n  Smoke_Alarm_Impact_on_Persons_Evacuating_Impact_on_Evacuation  \\\n0                                                NaN              \n1                                                NaN              \n2                                                NaN              \n3   8 - Not applicable: No alarm, no persons present              \n4                                                NaN              \n\n        Smoke_Spread                        Sprinkler_System_Operation  \\\n0                NaN                                               NaN   \n1                NaN                                               NaN   \n2                NaN                                               NaN   \n3  99 - Undetermined  8 - Not applicable - no sprinkler system present   \n4                NaN                                               NaN   \n\n  Sprinkler_System_Presence  \\\n0                       NaN   \n1                       NaN   \n2                       NaN   \n3          9 - Undetermined   \n4                       NaN   \n\n                           Status_of_Fire_On_Arrival       TFS_Alarm_Time  \\\n0  7 - Fully involved (total structure, vehicle, ...  2018-02-24T21:04:29   \n1              2 - Fire with no evidence from street  2018-02-24T21:24:43   \n2                                                NaN  2018-02-25T13:29:59   \n3  3 - Fire with smoke showing only - including v...  2018-02-25T14:13:39   \n4                                                NaN  2018-02-25T18:20:43   \n\n      TFS_Arrival_Time  TFS_Firefighter_Casualties  \n0  2018-02-24T21:10:11                           0  \n1  2018-02-24T21:29:31                           0  \n2  2018-02-25T13:36:49                           0  \n3  2018-02-25T14:18:07                           0  \n4  2018-02-25T18:26:19                           0  \n\n[5 rows x 43 columns]",
      "text/html": "<div>\n<style scoped>\n    .dataframe tbody tr th:only-of-type {\n        vertical-align: middle;\n    }\n\n    .dataframe tbody tr th {\n        vertical-align: top;\n    }\n\n    .dataframe thead th {\n        text-align: right;\n    }\n</style>\n<table border=\"1\" class=\"dataframe\">\n  <thead>\n    <tr style=\"text-align: right;\">\n      <th></th>\n      <th>_id</th>\n      <th>Area_of_Origin</th>\n      <th>Building_Status</th>\n      <th>Business_Impact</th>\n      <th>Civilian_Casualties</th>\n      <th>Count_of_Persons_Rescued</th>\n      <th>Estimated_Dollar_Loss</th>\n      <th>Estimated_Number_Of_Persons_Displaced</th>\n      <th>Exposures</th>\n      <th>Ext_agent_app_or_defer_time</th>\n      <th>...</th>\n      <th>Smoke_Alarm_at_Fire_Origin_Alarm_Failure</th>\n      <th>Smoke_Alarm_at_Fire_Origin_Alarm_Type</th>\n      <th>Smoke_Alarm_Impact_on_Persons_Evacuating_Impact_on_Evacuation</th>\n      <th>Smoke_Spread</th>\n      <th>Sprinkler_System_Operation</th>\n      <th>Sprinkler_System_Presence</th>\n      <th>Status_of_Fire_On_Arrival</th>\n      <th>TFS_Alarm_Time</th>\n      <th>TFS_Arrival_Time</th>\n      <th>TFS_Firefighter_Casualties</th>\n    </tr>\n  </thead>\n  <tbody>\n    <tr>\n      <th>0</th>\n      <td>578689</td>\n      <td>81 - Engine Area</td>\n      <td>NaN</td>\n      <td>NaN</td>\n      <td>0</td>\n      <td>0</td>\n      <td>15000.0</td>\n      <td>NaN</td>\n      <td>NaN</td>\n      <td>2018-02-24T21:12:00</td>\n      <td>...</td>\n      <td>NaN</td>\n      <td>NaN</td>\n      <td>NaN</td>\n      <td>NaN</td>\n      <td>NaN</td>\n      <td>NaN</td>\n      <td>7 - Fully involved (total structure, vehicle, ...</td>\n      <td>2018-02-24T21:04:29</td>\n      <td>2018-02-24T21:10:11</td>\n      <td>0</td>\n    </tr>\n    <tr>\n      <th>1</th>\n      <td>578690</td>\n      <td>75 - Trash, rubbish area (outside)</td>\n      <td>NaN</td>\n      <td>NaN</td>\n      <td>0</td>\n      <td>0</td>\n      <td>50.0</td>\n      <td>NaN</td>\n      <td>NaN</td>\n      <td>2018-02-24T21:29:42</td>\n      <td>...</td>\n      <td>NaN</td>\n      <td>NaN</td>\n      <td>NaN</td>\n      <td>NaN</td>\n      <td>NaN</td>\n      <td>NaN</td>\n      <td>2 - Fire with no evidence from street</td>\n      <td>2018-02-24T21:24:43</td>\n      <td>2018-02-24T21:29:31</td>\n      <td>0</td>\n    </tr>\n    <tr>\n      <th>2</th>\n      <td>578691</td>\n      <td>NaN</td>\n      <td>NaN</td>\n      <td>NaN</td>\n      <td>0</td>\n      <td>0</td>\n      <td>NaN</td>\n      <td>NaN</td>\n      <td>NaN</td>\n      <td>NaN</td>\n      <td>...</td>\n      <td>NaN</td>\n      <td>NaN</td>\n      <td>NaN</td>\n      <td>NaN</td>\n      <td>NaN</td>\n      <td>NaN</td>\n      <td>NaN</td>\n      <td>2018-02-25T13:29:59</td>\n      <td>2018-02-25T13:36:49</td>\n      <td>0</td>\n    </tr>\n    <tr>\n      <th>3</th>\n      <td>578692</td>\n      <td>75 - Trash, rubbish area (outside)</td>\n      <td>01 - Normal (no change)</td>\n      <td>1 - No business interruption</td>\n      <td>0</td>\n      <td>0</td>\n      <td>0.0</td>\n      <td>0.0</td>\n      <td>NaN</td>\n      <td>2018-02-25T14:19:25</td>\n      <td>...</td>\n      <td>98 - Not applicable: Alarm operated OR presenc...</td>\n      <td>9 - Type undetermined</td>\n      <td>8 - Not applicable: No alarm, no persons present</td>\n      <td>99 - Undetermined</td>\n      <td>8 - Not applicable - no sprinkler system present</td>\n      <td>9 - Undetermined</td>\n      <td>3 - Fire with smoke showing only - including v...</td>\n      <td>2018-02-25T14:13:39</td>\n      <td>2018-02-25T14:18:07</td>\n      <td>0</td>\n    </tr>\n    <tr>\n      <th>4</th>\n      <td>578693</td>\n      <td>NaN</td>\n      <td>NaN</td>\n      <td>NaN</td>\n      <td>0</td>\n      <td>0</td>\n      <td>NaN</td>\n      <td>NaN</td>\n      <td>NaN</td>\n      <td>NaN</td>\n      <td>...</td>\n      <td>NaN</td>\n      <td>NaN</td>\n      <td>NaN</td>\n      <td>NaN</td>\n      <td>NaN</td>\n      <td>NaN</td>\n      <td>NaN</td>\n      <td>2018-02-25T18:20:43</td>\n      <td>2018-02-25T18:26:19</td>\n      <td>0</td>\n    </tr>\n  </tbody>\n</table>\n<p>5 rows × 43 columns</p>\n</div>"
     },
     "execution_count": 6,
     "metadata": {},
     "output_type": "execute_result"
    }
   ],
   "source": [
    "fire_data.head()"
   ],
   "metadata": {
    "collapsed": false
   }
  },
  {
   "cell_type": "markdown",
   "source": [
    "## Irrelevant Data\n",
    "First, we can begin by eliminating columns that we know, for sure, that we do not need. At the moment, this includes the \"Incident_Number\" and \"Exposure\" columns. \"Incident_Number\" because it is essentially equivalent to \"_id\", and \"Exposure\" because 98% of the data in this column are null."
   ],
   "metadata": {
    "collapsed": false
   }
  },
  {
   "cell_type": "code",
   "execution_count": 7,
   "outputs": [
    {
     "name": "stdout",
     "output_type": "stream",
     "text": [
      "<class 'pandas.core.frame.DataFrame'>\n",
      "RangeIndex: 17536 entries, 0 to 17535\n",
      "Data columns (total 41 columns):\n",
      " #   Column                                                         Non-Null Count  Dtype  \n",
      "---  ------                                                         --------------  -----  \n",
      " 0   _id                                                            17536 non-null  int64  \n",
      " 1   Area_of_Origin                                                 15623 non-null  object \n",
      " 2   Building_Status                                                11216 non-null  object \n",
      " 3   Business_Impact                                                11214 non-null  object \n",
      " 4   Civilian_Casualties                                            17536 non-null  int64  \n",
      " 5   Count_of_Persons_Rescued                                       17536 non-null  int64  \n",
      " 6   Estimated_Dollar_Loss                                          15627 non-null  float64\n",
      " 7   Estimated_Number_Of_Persons_Displaced                          11215 non-null  float64\n",
      " 8   Ext_agent_app_or_defer_time                                    15622 non-null  object \n",
      " 9   Extent_Of_Fire                                                 11214 non-null  object \n",
      " 10  Final_Incident_Type                                            17536 non-null  object \n",
      " 11  Fire_Alarm_System_Impact_on_Evacuation                         11214 non-null  object \n",
      " 12  Fire_Alarm_System_Operation                                    11214 non-null  object \n",
      " 13  Fire_Alarm_System_Presence                                     11214 non-null  object \n",
      " 14  Fire_Under_Control_Time                                        15634 non-null  object \n",
      " 15  Ignition_Source                                                15623 non-null  object \n",
      " 16  Incident_Station_Area                                          17536 non-null  int64  \n",
      " 17  Incident_Ward                                                  17451 non-null  float64\n",
      " 18  Initial_CAD_Event_Type                                         17536 non-null  object \n",
      " 19  Intersection                                                   17535 non-null  object \n",
      " 20  Last_TFS_Unit_Clear_Time                                       17536 non-null  object \n",
      " 21  Latitude                                                       17535 non-null  float64\n",
      " 22  Level_Of_Origin                                                11214 non-null  object \n",
      " 23  Longitude                                                      17535 non-null  float64\n",
      " 24  Material_First_Ignited                                         15623 non-null  object \n",
      " 25  Method_Of_Fire_Control                                         15622 non-null  object \n",
      " 26  Number_of_responding_apparatus                                 17536 non-null  int64  \n",
      " 27  Number_of_responding_personnel                                 17536 non-null  int64  \n",
      " 28  Possible_Cause                                                 15623 non-null  object \n",
      " 29  Property_Use                                                   17535 non-null  object \n",
      " 30  Smoke_Alarm_at_Fire_Origin                                     11214 non-null  object \n",
      " 31  Smoke_Alarm_at_Fire_Origin_Alarm_Failure                       11214 non-null  object \n",
      " 32  Smoke_Alarm_at_Fire_Origin_Alarm_Type                          11214 non-null  object \n",
      " 33  Smoke_Alarm_Impact_on_Persons_Evacuating_Impact_on_Evacuation  11214 non-null  object \n",
      " 34  Smoke_Spread                                                   11214 non-null  object \n",
      " 35  Sprinkler_System_Operation                                     11214 non-null  object \n",
      " 36  Sprinkler_System_Presence                                      11214 non-null  object \n",
      " 37  Status_of_Fire_On_Arrival                                      15622 non-null  object \n",
      " 38  TFS_Alarm_Time                                                 17536 non-null  object \n",
      " 39  TFS_Arrival_Time                                               17536 non-null  object \n",
      " 40  TFS_Firefighter_Casualties                                     17536 non-null  int64  \n",
      "dtypes: float64(5), int64(7), object(29)\n",
      "memory usage: 5.5+ MB\n"
     ]
    }
   ],
   "source": [
    "fire_data = fire_data.drop(['Exposures', 'Incident_Number'], axis = 1)\n",
    "fire_data.info()"
   ],
   "metadata": {
    "collapsed": false
   }
  },
  {
   "cell_type": "markdown",
   "source": [
    "## Missing Data\n",
    "Next, it is important to understand the number of null values and how to approach eliminating or changing those values. It appears that the columns with null values are split into approximately 5 different categories.\n",
    "\n",
    "First, we have columns missing about 36% (n = ~6300) rows of their data (mostly columns pertaining to fire alarm, smoke alarm, or sprinklers).\n",
    "\n",
    "Second, we have columns missing about 10% (n = ~1900) rows of their data.\n",
    "\n",
    "Third, we have one column missing 85 rows of data. This is the \"Incident_Ward\" column.\n",
    "\n",
    "Fourth, we have four columns all missing 1 value. \"Intersection\", \"Longitude\", \"Latitude\", and \"Property_Use\".\n",
    "\n",
    "Fifth, we have 12 columns with zero null values."
   ],
   "metadata": {
    "collapsed": false
   }
  },
  {
   "cell_type": "code",
   "execution_count": 8,
   "outputs": [
    {
     "data": {
      "text/plain": "Sprinkler_System_Presence                                        6322\nFire_Alarm_System_Impact_on_Evacuation                           6322\nSmoke_Alarm_at_Fire_Origin                                       6322\nSmoke_Alarm_Impact_on_Persons_Evacuating_Impact_on_Evacuation    6322\nSmoke_Spread                                                     6322\nLevel_Of_Origin                                                  6322\nSprinkler_System_Operation                                       6322\nSmoke_Alarm_at_Fire_Origin_Alarm_Type                            6322\nFire_Alarm_System_Presence                                       6322\nFire_Alarm_System_Operation                                      6322\nSmoke_Alarm_at_Fire_Origin_Alarm_Failure                         6322\nBusiness_Impact                                                  6322\nExtent_Of_Fire                                                   6322\nEstimated_Number_Of_Persons_Displaced                            6321\nBuilding_Status                                                  6320\nStatus_of_Fire_On_Arrival                                        1914\nExt_agent_app_or_defer_time                                      1914\nMethod_Of_Fire_Control                                           1914\nIgnition_Source                                                  1913\nArea_of_Origin                                                   1913\nPossible_Cause                                                   1913\nMaterial_First_Ignited                                           1913\nEstimated_Dollar_Loss                                            1909\nFire_Under_Control_Time                                          1902\nIncident_Ward                                                      85\nProperty_Use                                                        1\nLatitude                                                            1\nLongitude                                                           1\nIntersection                                                        1\nTFS_Arrival_Time                                                    0\nTFS_Alarm_Time                                                      0\n_id                                                                 0\nLast_TFS_Unit_Clear_Time                                            0\nNumber_of_responding_personnel                                      0\nNumber_of_responding_apparatus                                      0\nInitial_CAD_Event_Type                                              0\nIncident_Station_Area                                               0\nFinal_Incident_Type                                                 0\nCount_of_Persons_Rescued                                            0\nCivilian_Casualties                                                 0\nTFS_Firefighter_Casualties                                          0\ndtype: int64"
     },
     "execution_count": 8,
     "metadata": {},
     "output_type": "execute_result"
    }
   ],
   "source": [
    "fire_data.isnull().sum().sort_values(ascending = False)"
   ],
   "metadata": {
    "collapsed": false
   }
  },
  {
   "cell_type": "code",
   "execution_count": 26,
   "outputs": [
    {
     "data": {
      "text/plain": "          _id                                     Area_of_Origin  \\\n211    578900  44 - Trash, Rubbish Storage (inc garbage chute...   \n214    578903                                                NaN   \n565    579254                            83 - Electrical Systems   \n1417   580106                                        42 - Garage   \n2274   580963                                                NaN   \n...       ...                                                ...   \n16858  595547  31 - Process Manufacturing (inc manf, prod ass...   \n16925  595614                          29 - Electronic Equipment   \n17034  595723                       24 - Cooking Area or Kitchen   \n17203  595892                       24 - Cooking Area or Kitchen   \n17500  596189                                   81 - Engine Area   \n\n               Building_Status                          Business_Impact  \\\n211                        NaN                                      NaN   \n214                        NaN                                      NaN   \n565                        NaN                                      NaN   \n1417   01 - Normal (no change)                         9 - Undetermined   \n2274                       NaN                                      NaN   \n...                        ...                                      ...   \n16858      08 - Not Applicable             1 - No business interruption   \n16925  01 - Normal (no change)  2 - May resume operations within a week   \n17034  01 - Normal (no change)      8 - Not applicable (not a business)   \n17203  01 - Normal (no change)      8 - Not applicable (not a business)   \n17500                      NaN                                      NaN   \n\n       Civilian_Casualties  Count_of_Persons_Rescued  Estimated_Dollar_Loss  \\\n211                      0                         0                    0.0   \n214                      0                         0                    NaN   \n565                      0                         0                20000.0   \n1417                     0                         0                    0.0   \n2274                     0                         0                    NaN   \n...                    ...                       ...                    ...   \n16858                    0                         0                 5000.0   \n16925                    0                         0                 1000.0   \n17034                    1                         0                  500.0   \n17203                    1                         0                 4000.0   \n17500                    0                         0                 3000.0   \n\n       Estimated_Number_Of_Persons_Displaced Ext_agent_app_or_defer_time  \\\n211                                      NaN         2018-01-20 06:14:00   \n214                                      NaN                         NaT   \n565                                      NaN         2018-02-12 09:10:50   \n1417                                     0.0         2019-01-25 18:57:07   \n2274                                     NaN                         NaT   \n...                                      ...                         ...   \n16858                                    0.0         2017-08-21 17:32:21   \n16925                                    0.0         2017-11-02 00:24:30   \n17034                                    0.0         2017-12-01 17:50:59   \n17203                                    0.0         2014-05-26 17:33:27   \n17500                                    NaN         2011-09-26 19:03:00   \n\n                                    Extent_Of_Fire  ...  \\\n211                                            NaN  ...   \n214                                            NaN  ...   \n565                                            NaN  ...   \n1417              1 - Confined to object of origin  ...   \n2274                                           NaN  ...   \n...                                            ...  ...   \n16858             1 - Confined to object of origin  ...   \n16925  2 - Confined to part of room/area of origin  ...   \n17034  2 - Confined to part of room/area of origin  ...   \n17203  2 - Confined to part of room/area of origin  ...   \n17500                                          NaN  ...   \n\n      Smoke_Alarm_Impact_on_Persons_Evacuating_Impact_on_Evacuation  \\\n211                                                  NaN              \n214                                                  NaN              \n565                                                  NaN              \n1417    8 - Not applicable: No alarm, no persons present              \n2274                                                 NaN              \n...                                                  ...              \n16858                                   9 - Undetermined              \n16925   8 - Not applicable: No alarm, no persons present              \n17034  1 - All persons (at risk of injury) self evacu...              \n17203  3 - No one (at risk) evacuated as a result of ...              \n17500                                                NaN              \n\n                                            Smoke_Spread  \\\n211                                                  NaN   \n214                                                  NaN   \n565                                                  NaN   \n1417   5 - Multi unit bldg: spread beyond suite of or...   \n2274                                                 NaN   \n...                                                  ...   \n16858       4 - Spread beyond room of origin, same floor   \n16925       4 - Spread beyond room of origin, same floor   \n17034       4 - Spread beyond room of origin, same floor   \n17203       4 - Spread beyond room of origin, same floor   \n17500                                                NaN   \n\n                             Sprinkler_System_Operation  \\\n211                                                 NaN   \n214                                                 NaN   \n565                                                 NaN   \n1417                     1 - Sprinkler system activated   \n2274                                                NaN   \n...                                                 ...   \n16858             9 - Activation/operation undetermined   \n16925             9 - Activation/operation undetermined   \n17034  8 - Not applicable - no sprinkler system present   \n17203             9 - Activation/operation undetermined   \n17500                                               NaN   \n\n               Sprinkler_System_Presence  \\\n211                                  NaN   \n214                                  NaN   \n565                                  NaN   \n1417   1 - Full sprinkler system present   \n2274                                 NaN   \n...                                  ...   \n16858  1 - Full sprinkler system present   \n16925                   9 - Undetermined   \n17034            3 - No sprinkler system   \n17203                   9 - Undetermined   \n17500                                NaN   \n\n                               Status_of_Fire_On_Arrival      TFS_Alarm_Time  \\\n211    3 - Fire with smoke showing only - including v... 2018-01-20 06:06:46   \n214                                                  NaN 2018-03-04 08:59:06   \n565    3 - Fire with smoke showing only - including v... 2018-02-12 09:01:02   \n1417              1 - Fire extinguished prior to arrival 2019-01-25 18:55:30   \n2274                                                 NaN 2019-04-21 22:16:18   \n...                                                  ...                 ...   \n16858  4 - Flames showing from small area (one storey... 2017-08-21 17:17:01   \n16925  3 - Fire with smoke showing only - including v... 2017-11-02 00:15:43   \n17034             1 - Fire extinguished prior to arrival 2017-12-01 17:40:21   \n17203  3 - Fire with smoke showing only - including v... 2014-05-26 17:22:50   \n17500  3 - Fire with smoke showing only - including v... 2011-09-26 18:55:12   \n\n         TFS_Arrival_Time  TFS_Firefighter_Casualties Area_Of_Origin_No  \\\n211   2018-01-20 06:13:44                           0               44    \n214   2018-03-04 09:05:54                           0               NaN   \n565   2018-02-12 09:07:01                           0               83    \n1417  2019-01-25 18:56:07                           0               42    \n2274  2019-04-21 22:22:22                           0               NaN   \n...                   ...                         ...               ...   \n16858 2017-08-21 17:23:08                           0               31    \n16925 2017-11-02 00:22:44                           0               29    \n17034 2017-12-01 17:46:49                           0               24    \n17203 2014-05-26 17:26:59                           0               24    \n17500 2011-09-26 19:01:00                           0               81    \n\n                              Area_Of_Origin_Description  \n211     Trash, Rubbish Storage (inc garbage chute roo...  \n214                                                  NaN  \n565                                   Electrical Systems  \n1417                                              Garage  \n2274                                                 NaN  \n...                                                  ...  \n16858   Process Manufacturing (inc manf, prod assembl...  \n16925                               Electronic Equipment  \n17034                            Cooking Area or Kitchen  \n17203                            Cooking Area or Kitchen  \n17500                                        Engine Area  \n\n[85 rows x 43 columns]",
      "text/html": "<div>\n<style scoped>\n    .dataframe tbody tr th:only-of-type {\n        vertical-align: middle;\n    }\n\n    .dataframe tbody tr th {\n        vertical-align: top;\n    }\n\n    .dataframe thead th {\n        text-align: right;\n    }\n</style>\n<table border=\"1\" class=\"dataframe\">\n  <thead>\n    <tr style=\"text-align: right;\">\n      <th></th>\n      <th>_id</th>\n      <th>Area_of_Origin</th>\n      <th>Building_Status</th>\n      <th>Business_Impact</th>\n      <th>Civilian_Casualties</th>\n      <th>Count_of_Persons_Rescued</th>\n      <th>Estimated_Dollar_Loss</th>\n      <th>Estimated_Number_Of_Persons_Displaced</th>\n      <th>Ext_agent_app_or_defer_time</th>\n      <th>Extent_Of_Fire</th>\n      <th>...</th>\n      <th>Smoke_Alarm_Impact_on_Persons_Evacuating_Impact_on_Evacuation</th>\n      <th>Smoke_Spread</th>\n      <th>Sprinkler_System_Operation</th>\n      <th>Sprinkler_System_Presence</th>\n      <th>Status_of_Fire_On_Arrival</th>\n      <th>TFS_Alarm_Time</th>\n      <th>TFS_Arrival_Time</th>\n      <th>TFS_Firefighter_Casualties</th>\n      <th>Area_Of_Origin_No</th>\n      <th>Area_Of_Origin_Description</th>\n    </tr>\n  </thead>\n  <tbody>\n    <tr>\n      <th>211</th>\n      <td>578900</td>\n      <td>44 - Trash, Rubbish Storage (inc garbage chute...</td>\n      <td>NaN</td>\n      <td>NaN</td>\n      <td>0</td>\n      <td>0</td>\n      <td>0.0</td>\n      <td>NaN</td>\n      <td>2018-01-20 06:14:00</td>\n      <td>NaN</td>\n      <td>...</td>\n      <td>NaN</td>\n      <td>NaN</td>\n      <td>NaN</td>\n      <td>NaN</td>\n      <td>3 - Fire with smoke showing only - including v...</td>\n      <td>2018-01-20 06:06:46</td>\n      <td>2018-01-20 06:13:44</td>\n      <td>0</td>\n      <td>44</td>\n      <td>Trash, Rubbish Storage (inc garbage chute roo...</td>\n    </tr>\n    <tr>\n      <th>214</th>\n      <td>578903</td>\n      <td>NaN</td>\n      <td>NaN</td>\n      <td>NaN</td>\n      <td>0</td>\n      <td>0</td>\n      <td>NaN</td>\n      <td>NaN</td>\n      <td>NaT</td>\n      <td>NaN</td>\n      <td>...</td>\n      <td>NaN</td>\n      <td>NaN</td>\n      <td>NaN</td>\n      <td>NaN</td>\n      <td>NaN</td>\n      <td>2018-03-04 08:59:06</td>\n      <td>2018-03-04 09:05:54</td>\n      <td>0</td>\n      <td>NaN</td>\n      <td>NaN</td>\n    </tr>\n    <tr>\n      <th>565</th>\n      <td>579254</td>\n      <td>83 - Electrical Systems</td>\n      <td>NaN</td>\n      <td>NaN</td>\n      <td>0</td>\n      <td>0</td>\n      <td>20000.0</td>\n      <td>NaN</td>\n      <td>2018-02-12 09:10:50</td>\n      <td>NaN</td>\n      <td>...</td>\n      <td>NaN</td>\n      <td>NaN</td>\n      <td>NaN</td>\n      <td>NaN</td>\n      <td>3 - Fire with smoke showing only - including v...</td>\n      <td>2018-02-12 09:01:02</td>\n      <td>2018-02-12 09:07:01</td>\n      <td>0</td>\n      <td>83</td>\n      <td>Electrical Systems</td>\n    </tr>\n    <tr>\n      <th>1417</th>\n      <td>580106</td>\n      <td>42 - Garage</td>\n      <td>01 - Normal (no change)</td>\n      <td>9 - Undetermined</td>\n      <td>0</td>\n      <td>0</td>\n      <td>0.0</td>\n      <td>0.0</td>\n      <td>2019-01-25 18:57:07</td>\n      <td>1 - Confined to object of origin</td>\n      <td>...</td>\n      <td>8 - Not applicable: No alarm, no persons present</td>\n      <td>5 - Multi unit bldg: spread beyond suite of or...</td>\n      <td>1 - Sprinkler system activated</td>\n      <td>1 - Full sprinkler system present</td>\n      <td>1 - Fire extinguished prior to arrival</td>\n      <td>2019-01-25 18:55:30</td>\n      <td>2019-01-25 18:56:07</td>\n      <td>0</td>\n      <td>42</td>\n      <td>Garage</td>\n    </tr>\n    <tr>\n      <th>2274</th>\n      <td>580963</td>\n      <td>NaN</td>\n      <td>NaN</td>\n      <td>NaN</td>\n      <td>0</td>\n      <td>0</td>\n      <td>NaN</td>\n      <td>NaN</td>\n      <td>NaT</td>\n      <td>NaN</td>\n      <td>...</td>\n      <td>NaN</td>\n      <td>NaN</td>\n      <td>NaN</td>\n      <td>NaN</td>\n      <td>NaN</td>\n      <td>2019-04-21 22:16:18</td>\n      <td>2019-04-21 22:22:22</td>\n      <td>0</td>\n      <td>NaN</td>\n      <td>NaN</td>\n    </tr>\n    <tr>\n      <th>...</th>\n      <td>...</td>\n      <td>...</td>\n      <td>...</td>\n      <td>...</td>\n      <td>...</td>\n      <td>...</td>\n      <td>...</td>\n      <td>...</td>\n      <td>...</td>\n      <td>...</td>\n      <td>...</td>\n      <td>...</td>\n      <td>...</td>\n      <td>...</td>\n      <td>...</td>\n      <td>...</td>\n      <td>...</td>\n      <td>...</td>\n      <td>...</td>\n      <td>...</td>\n      <td>...</td>\n    </tr>\n    <tr>\n      <th>16858</th>\n      <td>595547</td>\n      <td>31 - Process Manufacturing (inc manf, prod ass...</td>\n      <td>08 - Not Applicable</td>\n      <td>1 - No business interruption</td>\n      <td>0</td>\n      <td>0</td>\n      <td>5000.0</td>\n      <td>0.0</td>\n      <td>2017-08-21 17:32:21</td>\n      <td>1 - Confined to object of origin</td>\n      <td>...</td>\n      <td>9 - Undetermined</td>\n      <td>4 - Spread beyond room of origin, same floor</td>\n      <td>9 - Activation/operation undetermined</td>\n      <td>1 - Full sprinkler system present</td>\n      <td>4 - Flames showing from small area (one storey...</td>\n      <td>2017-08-21 17:17:01</td>\n      <td>2017-08-21 17:23:08</td>\n      <td>0</td>\n      <td>31</td>\n      <td>Process Manufacturing (inc manf, prod assembl...</td>\n    </tr>\n    <tr>\n      <th>16925</th>\n      <td>595614</td>\n      <td>29 - Electronic Equipment</td>\n      <td>01 - Normal (no change)</td>\n      <td>2 - May resume operations within a week</td>\n      <td>0</td>\n      <td>0</td>\n      <td>1000.0</td>\n      <td>0.0</td>\n      <td>2017-11-02 00:24:30</td>\n      <td>2 - Confined to part of room/area of origin</td>\n      <td>...</td>\n      <td>8 - Not applicable: No alarm, no persons present</td>\n      <td>4 - Spread beyond room of origin, same floor</td>\n      <td>9 - Activation/operation undetermined</td>\n      <td>9 - Undetermined</td>\n      <td>3 - Fire with smoke showing only - including v...</td>\n      <td>2017-11-02 00:15:43</td>\n      <td>2017-11-02 00:22:44</td>\n      <td>0</td>\n      <td>29</td>\n      <td>Electronic Equipment</td>\n    </tr>\n    <tr>\n      <th>17034</th>\n      <td>595723</td>\n      <td>24 - Cooking Area or Kitchen</td>\n      <td>01 - Normal (no change)</td>\n      <td>8 - Not applicable (not a business)</td>\n      <td>1</td>\n      <td>0</td>\n      <td>500.0</td>\n      <td>0.0</td>\n      <td>2017-12-01 17:50:59</td>\n      <td>2 - Confined to part of room/area of origin</td>\n      <td>...</td>\n      <td>1 - All persons (at risk of injury) self evacu...</td>\n      <td>4 - Spread beyond room of origin, same floor</td>\n      <td>8 - Not applicable - no sprinkler system present</td>\n      <td>3 - No sprinkler system</td>\n      <td>1 - Fire extinguished prior to arrival</td>\n      <td>2017-12-01 17:40:21</td>\n      <td>2017-12-01 17:46:49</td>\n      <td>0</td>\n      <td>24</td>\n      <td>Cooking Area or Kitchen</td>\n    </tr>\n    <tr>\n      <th>17203</th>\n      <td>595892</td>\n      <td>24 - Cooking Area or Kitchen</td>\n      <td>01 - Normal (no change)</td>\n      <td>8 - Not applicable (not a business)</td>\n      <td>1</td>\n      <td>0</td>\n      <td>4000.0</td>\n      <td>0.0</td>\n      <td>2014-05-26 17:33:27</td>\n      <td>2 - Confined to part of room/area of origin</td>\n      <td>...</td>\n      <td>3 - No one (at risk) evacuated as a result of ...</td>\n      <td>4 - Spread beyond room of origin, same floor</td>\n      <td>9 - Activation/operation undetermined</td>\n      <td>9 - Undetermined</td>\n      <td>3 - Fire with smoke showing only - including v...</td>\n      <td>2014-05-26 17:22:50</td>\n      <td>2014-05-26 17:26:59</td>\n      <td>0</td>\n      <td>24</td>\n      <td>Cooking Area or Kitchen</td>\n    </tr>\n    <tr>\n      <th>17500</th>\n      <td>596189</td>\n      <td>81 - Engine Area</td>\n      <td>NaN</td>\n      <td>NaN</td>\n      <td>0</td>\n      <td>0</td>\n      <td>3000.0</td>\n      <td>NaN</td>\n      <td>2011-09-26 19:03:00</td>\n      <td>NaN</td>\n      <td>...</td>\n      <td>NaN</td>\n      <td>NaN</td>\n      <td>NaN</td>\n      <td>NaN</td>\n      <td>3 - Fire with smoke showing only - including v...</td>\n      <td>2011-09-26 18:55:12</td>\n      <td>2011-09-26 19:01:00</td>\n      <td>0</td>\n      <td>81</td>\n      <td>Engine Area</td>\n    </tr>\n  </tbody>\n</table>\n<p>85 rows × 43 columns</p>\n</div>"
     },
     "execution_count": 26,
     "metadata": {},
     "output_type": "execute_result"
    }
   ],
   "source": [
    "# Finding rows that the 85 null Incident_Ward values are in. Is there a way for us to fill these? Why are they null? A lot seem to include \"Steeles Ave\"\n",
    "fire_data[fire_data['Incident_Ward'].isnull()]"
   ],
   "metadata": {
    "collapsed": false
   }
  },
  {
   "cell_type": "code",
   "execution_count": 23,
   "outputs": [
    {
     "data": {
      "text/plain": "          _id    Area_of_Origin Building_Status Business_Impact  \\\n17500  596189  81 - Engine Area             NaN             NaN   \n\n       Civilian_Casualties  Count_of_Persons_Rescued  Estimated_Dollar_Loss  \\\n17500                    0                         0                 3000.0   \n\n       Estimated_Number_Of_Persons_Displaced Ext_agent_app_or_defer_time  \\\n17500                                    NaN         2011-09-26 19:03:00   \n\n      Extent_Of_Fire  ...  \\\n17500            NaN  ...   \n\n      Smoke_Alarm_Impact_on_Persons_Evacuating_Impact_on_Evacuation  \\\n17500                                                NaN              \n\n      Smoke_Spread Sprinkler_System_Operation Sprinkler_System_Presence  \\\n17500          NaN                        NaN                       NaN   \n\n                               Status_of_Fire_On_Arrival      TFS_Alarm_Time  \\\n17500  3 - Fire with smoke showing only - including v... 2011-09-26 18:55:12   \n\n         TFS_Arrival_Time  TFS_Firefighter_Casualties Area_Of_Origin_No  \\\n17500 2011-09-26 19:01:00                           0               81    \n\n      Area_Of_Origin_Description  \n17500                Engine Area  \n\n[1 rows x 43 columns]",
      "text/html": "<div>\n<style scoped>\n    .dataframe tbody tr th:only-of-type {\n        vertical-align: middle;\n    }\n\n    .dataframe tbody tr th {\n        vertical-align: top;\n    }\n\n    .dataframe thead th {\n        text-align: right;\n    }\n</style>\n<table border=\"1\" class=\"dataframe\">\n  <thead>\n    <tr style=\"text-align: right;\">\n      <th></th>\n      <th>_id</th>\n      <th>Area_of_Origin</th>\n      <th>Building_Status</th>\n      <th>Business_Impact</th>\n      <th>Civilian_Casualties</th>\n      <th>Count_of_Persons_Rescued</th>\n      <th>Estimated_Dollar_Loss</th>\n      <th>Estimated_Number_Of_Persons_Displaced</th>\n      <th>Ext_agent_app_or_defer_time</th>\n      <th>Extent_Of_Fire</th>\n      <th>...</th>\n      <th>Smoke_Alarm_Impact_on_Persons_Evacuating_Impact_on_Evacuation</th>\n      <th>Smoke_Spread</th>\n      <th>Sprinkler_System_Operation</th>\n      <th>Sprinkler_System_Presence</th>\n      <th>Status_of_Fire_On_Arrival</th>\n      <th>TFS_Alarm_Time</th>\n      <th>TFS_Arrival_Time</th>\n      <th>TFS_Firefighter_Casualties</th>\n      <th>Area_Of_Origin_No</th>\n      <th>Area_Of_Origin_Description</th>\n    </tr>\n  </thead>\n  <tbody>\n    <tr>\n      <th>17500</th>\n      <td>596189</td>\n      <td>81 - Engine Area</td>\n      <td>NaN</td>\n      <td>NaN</td>\n      <td>0</td>\n      <td>0</td>\n      <td>3000.0</td>\n      <td>NaN</td>\n      <td>2011-09-26 19:03:00</td>\n      <td>NaN</td>\n      <td>...</td>\n      <td>NaN</td>\n      <td>NaN</td>\n      <td>NaN</td>\n      <td>NaN</td>\n      <td>3 - Fire with smoke showing only - including v...</td>\n      <td>2011-09-26 18:55:12</td>\n      <td>2011-09-26 19:01:00</td>\n      <td>0</td>\n      <td>81</td>\n      <td>Engine Area</td>\n    </tr>\n  </tbody>\n</table>\n<p>1 rows × 43 columns</p>\n</div>"
     },
     "execution_count": 23,
     "metadata": {},
     "output_type": "execute_result"
    }
   ],
   "source": [
    "# Finding row that the singular Latitude, Longitude, Intersection null value is in\n",
    "fire_data[fire_data['Latitude'].isnull()]"
   ],
   "metadata": {
    "collapsed": false
   }
  },
  {
   "cell_type": "code",
   "execution_count": 24,
   "outputs": [
    {
     "data": {
      "text/plain": "          _id           Area_of_Origin Building_Status Business_Impact  \\\n17276  595965  79 - Other Outside Area             NaN             NaN   \n\n       Civilian_Casualties  Count_of_Persons_Rescued  Estimated_Dollar_Loss  \\\n17276                    0                         0                    NaN   \n\n       Estimated_Number_Of_Persons_Displaced Ext_agent_app_or_defer_time  \\\n17276                                    NaN         2013-04-17 18:37:00   \n\n      Extent_Of_Fire  ...  \\\n17276            NaN  ...   \n\n      Smoke_Alarm_Impact_on_Persons_Evacuating_Impact_on_Evacuation  \\\n17276                                                NaN              \n\n      Smoke_Spread Sprinkler_System_Operation Sprinkler_System_Presence  \\\n17276          NaN                        NaN                       NaN   \n\n                               Status_of_Fire_On_Arrival      TFS_Alarm_Time  \\\n17276  3 - Fire with smoke showing only - including v... 2013-04-17 18:29:19   \n\n         TFS_Arrival_Time  TFS_Firefighter_Casualties Area_Of_Origin_No  \\\n17276 2013-04-17 18:35:26                           0               79    \n\n      Area_Of_Origin_Description  \n17276         Other Outside Area  \n\n[1 rows x 43 columns]",
      "text/html": "<div>\n<style scoped>\n    .dataframe tbody tr th:only-of-type {\n        vertical-align: middle;\n    }\n\n    .dataframe tbody tr th {\n        vertical-align: top;\n    }\n\n    .dataframe thead th {\n        text-align: right;\n    }\n</style>\n<table border=\"1\" class=\"dataframe\">\n  <thead>\n    <tr style=\"text-align: right;\">\n      <th></th>\n      <th>_id</th>\n      <th>Area_of_Origin</th>\n      <th>Building_Status</th>\n      <th>Business_Impact</th>\n      <th>Civilian_Casualties</th>\n      <th>Count_of_Persons_Rescued</th>\n      <th>Estimated_Dollar_Loss</th>\n      <th>Estimated_Number_Of_Persons_Displaced</th>\n      <th>Ext_agent_app_or_defer_time</th>\n      <th>Extent_Of_Fire</th>\n      <th>...</th>\n      <th>Smoke_Alarm_Impact_on_Persons_Evacuating_Impact_on_Evacuation</th>\n      <th>Smoke_Spread</th>\n      <th>Sprinkler_System_Operation</th>\n      <th>Sprinkler_System_Presence</th>\n      <th>Status_of_Fire_On_Arrival</th>\n      <th>TFS_Alarm_Time</th>\n      <th>TFS_Arrival_Time</th>\n      <th>TFS_Firefighter_Casualties</th>\n      <th>Area_Of_Origin_No</th>\n      <th>Area_Of_Origin_Description</th>\n    </tr>\n  </thead>\n  <tbody>\n    <tr>\n      <th>17276</th>\n      <td>595965</td>\n      <td>79 - Other Outside Area</td>\n      <td>NaN</td>\n      <td>NaN</td>\n      <td>0</td>\n      <td>0</td>\n      <td>NaN</td>\n      <td>NaN</td>\n      <td>2013-04-17 18:37:00</td>\n      <td>NaN</td>\n      <td>...</td>\n      <td>NaN</td>\n      <td>NaN</td>\n      <td>NaN</td>\n      <td>NaN</td>\n      <td>3 - Fire with smoke showing only - including v...</td>\n      <td>2013-04-17 18:29:19</td>\n      <td>2013-04-17 18:35:26</td>\n      <td>0</td>\n      <td>79</td>\n      <td>Other Outside Area</td>\n    </tr>\n  </tbody>\n</table>\n<p>1 rows × 43 columns</p>\n</div>"
     },
     "execution_count": 24,
     "metadata": {},
     "output_type": "execute_result"
    }
   ],
   "source": [
    "# Finding row that the singular Property_Use null value is in\n",
    "fire_data[fire_data['Property_Use'].isnull()]"
   ],
   "metadata": {
    "collapsed": false
   }
  },
  {
   "cell_type": "markdown",
   "source": [
    "In addition to null values, some columns have data that includes \"undetermined\", \"not applicable\", or something related. It would be useful to explore these. An example is below."
   ],
   "metadata": {
    "collapsed": false
   }
  },
  {
   "cell_type": "code",
   "execution_count": 20,
   "outputs": [
    {
     "data": {
      "text/plain": "Smoke_Spread\n2 - Confined to part of room/area of origin                                         2888\n4 - Spread beyond room of origin, same floor                                        2746\n7 - Spread to other floors, confined to building                                    1823\n3 - Spread to entire room of origin                                                  928\n8 - Entire Structure                                                                 742\n5 - Multi unit bldg: spread beyond suite of origin but not to separated suite(s)     547\n99 - Undetermined                                                                    538\n9 - Confined to roof/exterior structure                                              459\n6 - Multi unit bldg: spread to separate suite(s)                                     296\n10 - Spread beyond building of origin                                                247\ndtype: int64"
     },
     "execution_count": 20,
     "metadata": {},
     "output_type": "execute_result"
    }
   ],
   "source": [
    "fire_data.groupby('Smoke_Spread').size().sort_values(ascending = False)"
   ],
   "metadata": {
    "collapsed": false
   }
  },
  {
   "cell_type": "markdown",
   "source": [
    "One thing we noticed is that some of this fire incidents data does not actually pertain to fire incidents. Fire trucks typically respond to the scene in non-fire emergencies like medical. It would be useful for us to explore how much of this data does not actually pertain to fires. Perhaps this will allow us to reason why there are specific groupings of null values.\n",
    "\n",
    "\"Initial_CAD_Event_Type\" appears to be the column that tells us what each call is for. There are 115 unique values in this column. Let's look at what they are.\n",
    "\n",
    "UPDATE: It is very difficult to tell what some of the abbreviations in this column mean (e.g., VEF, FIHR, FICI, FIG, etc.) for now I will move on to other data cleaning until we find a document that will help us with this. If we cannot find documentation - @Jeff something your Dad could help with?"
   ],
   "metadata": {
    "collapsed": false
   }
  },
  {
   "cell_type": "code",
   "execution_count": 9,
   "outputs": [
    {
     "data": {
      "text/plain": "115"
     },
     "execution_count": 9,
     "metadata": {},
     "output_type": "execute_result"
    }
   ],
   "source": [
    "fire_data['Initial_CAD_Event_Type'].nunique()"
   ],
   "metadata": {
    "collapsed": false
   }
  },
  {
   "cell_type": "code",
   "execution_count": 10,
   "outputs": [
    {
     "data": {
      "text/plain": "Final_Incident_Type\n01 - Fire                                                                                  15516\n03 - NO LOSS OUTDOOR fire (exc: Sus.arson,vandal,child playing,recycling or dump fires)     1914\n02 - Explosion (including during Fire, excluding Codes 3 & 11-13)                            106\ndtype: int64"
     },
     "execution_count": 10,
     "metadata": {},
     "output_type": "execute_result"
    }
   ],
   "source": [
    "fire_data.groupby('Final_Incident_Type').size().sort_values(ascending = False).head()"
   ],
   "metadata": {
    "collapsed": false
   }
  },
  {
   "cell_type": "code",
   "execution_count": 11,
   "outputs": [
    {
     "data": {
      "text/plain": "Initial_CAD_Event_Type\nFIR                                   3929\nFire - Grass/Rubbish                  1698\nVEF                                   1652\nFIHR                                  1617\nFICI                                  1303\n                                      ... \nPUB                                      1\nISFA                                     1\nREHL                                     1\nAlarm Waterfront Marina/Industrial       1\nIsland - Fire Response                   1\nLength: 115, dtype: int64"
     },
     "execution_count": 11,
     "metadata": {},
     "output_type": "execute_result"
    }
   ],
   "source": [
    "fire_data.groupby('Initial_CAD_Event_Type').size().sort_values(ascending = False).head(115)"
   ],
   "metadata": {
    "collapsed": false
   }
  },
  {
   "cell_type": "markdown",
   "source": [
    "## Parsing DateTimes\n",
    "We have 5 columns that should be DateTimes but are currently objects. Let's convert these."
   ],
   "metadata": {
    "collapsed": false
   }
  },
  {
   "cell_type": "code",
   "execution_count": 12,
   "outputs": [
    {
     "name": "stdout",
     "output_type": "stream",
     "text": [
      "<class 'pandas.core.frame.DataFrame'>\n",
      "RangeIndex: 17536 entries, 0 to 17535\n",
      "Data columns (total 41 columns):\n",
      " #   Column                                                         Non-Null Count  Dtype         \n",
      "---  ------                                                         --------------  -----         \n",
      " 0   _id                                                            17536 non-null  int64         \n",
      " 1   Area_of_Origin                                                 15623 non-null  object        \n",
      " 2   Building_Status                                                11216 non-null  object        \n",
      " 3   Business_Impact                                                11214 non-null  object        \n",
      " 4   Civilian_Casualties                                            17536 non-null  int64         \n",
      " 5   Count_of_Persons_Rescued                                       17536 non-null  int64         \n",
      " 6   Estimated_Dollar_Loss                                          15627 non-null  float64       \n",
      " 7   Estimated_Number_Of_Persons_Displaced                          11215 non-null  float64       \n",
      " 8   Ext_agent_app_or_defer_time                                    15622 non-null  datetime64[ns]\n",
      " 9   Extent_Of_Fire                                                 11214 non-null  object        \n",
      " 10  Final_Incident_Type                                            17536 non-null  object        \n",
      " 11  Fire_Alarm_System_Impact_on_Evacuation                         11214 non-null  object        \n",
      " 12  Fire_Alarm_System_Operation                                    11214 non-null  object        \n",
      " 13  Fire_Alarm_System_Presence                                     11214 non-null  object        \n",
      " 14  Fire_Under_Control_Time                                        15634 non-null  datetime64[ns]\n",
      " 15  Ignition_Source                                                15623 non-null  object        \n",
      " 16  Incident_Station_Area                                          17536 non-null  int64         \n",
      " 17  Incident_Ward                                                  17451 non-null  float64       \n",
      " 18  Initial_CAD_Event_Type                                         17536 non-null  object        \n",
      " 19  Intersection                                                   17535 non-null  object        \n",
      " 20  Last_TFS_Unit_Clear_Time                                       17536 non-null  datetime64[ns]\n",
      " 21  Latitude                                                       17535 non-null  float64       \n",
      " 22  Level_Of_Origin                                                11214 non-null  object        \n",
      " 23  Longitude                                                      17535 non-null  float64       \n",
      " 24  Material_First_Ignited                                         15623 non-null  object        \n",
      " 25  Method_Of_Fire_Control                                         15622 non-null  object        \n",
      " 26  Number_of_responding_apparatus                                 17536 non-null  int64         \n",
      " 27  Number_of_responding_personnel                                 17536 non-null  int64         \n",
      " 28  Possible_Cause                                                 15623 non-null  object        \n",
      " 29  Property_Use                                                   17535 non-null  object        \n",
      " 30  Smoke_Alarm_at_Fire_Origin                                     11214 non-null  object        \n",
      " 31  Smoke_Alarm_at_Fire_Origin_Alarm_Failure                       11214 non-null  object        \n",
      " 32  Smoke_Alarm_at_Fire_Origin_Alarm_Type                          11214 non-null  object        \n",
      " 33  Smoke_Alarm_Impact_on_Persons_Evacuating_Impact_on_Evacuation  11214 non-null  object        \n",
      " 34  Smoke_Spread                                                   11214 non-null  object        \n",
      " 35  Sprinkler_System_Operation                                     11214 non-null  object        \n",
      " 36  Sprinkler_System_Presence                                      11214 non-null  object        \n",
      " 37  Status_of_Fire_On_Arrival                                      15622 non-null  object        \n",
      " 38  TFS_Alarm_Time                                                 17536 non-null  datetime64[ns]\n",
      " 39  TFS_Arrival_Time                                               17536 non-null  datetime64[ns]\n",
      " 40  TFS_Firefighter_Casualties                                     17536 non-null  int64         \n",
      "dtypes: datetime64[ns](5), float64(5), int64(7), object(24)\n",
      "memory usage: 5.5+ MB\n"
     ]
    }
   ],
   "source": [
    "datetime_columns = ['Ext_agent_app_or_defer_time', 'Fire_Under_Control_Time', 'Last_TFS_Unit_Clear_Time', 'TFS_Alarm_Time', 'TFS_Arrival_Time']\n",
    "\n",
    "fire_data[datetime_columns] = fire_data[datetime_columns].apply(pd.to_datetime, format = '%Y-%m-%d %H:%M:%S')\n",
    "fire_data.info()"
   ],
   "metadata": {
    "collapsed": false
   }
  },
  {
   "cell_type": "markdown",
   "source": [
    "## Check for Duplicates"
   ],
   "metadata": {
    "collapsed": false
   }
  },
  {
   "cell_type": "code",
   "execution_count": 12,
   "outputs": [],
   "source": [],
   "metadata": {
    "collapsed": false
   }
  },
  {
   "cell_type": "code",
   "execution_count": 12,
   "outputs": [],
   "source": [],
   "metadata": {
    "collapsed": false
   }
  },
  {
   "cell_type": "markdown",
   "source": [
    "## Splitting \"## - Description Columns\"\n",
    "Below I created a function that could take in the columns with the format \"## - Description\" and split them into two separate columns: one for the number and one for the text.\n",
    "\n",
    "I tested it and it works, but I think we should wait to apply this to our DataFrame until we have selected the columns we are interested in because this function will almost double the number of columns we have."
   ],
   "metadata": {
    "collapsed": false
   }
  },
  {
   "cell_type": "code",
   "execution_count": 14,
   "outputs": [],
   "source": [
    "def column_split(df, column, number_column, string_column):\n",
    "\n",
    "    df[number_column], df[string_column] = df[column].str.split('-', 1).str\n",
    "\n",
    "    return df[number_column], df[string_column]"
   ],
   "metadata": {
    "collapsed": false
   }
  },
  {
   "cell_type": "code",
   "execution_count": 15,
   "outputs": [
    {
     "data": {
      "text/plain": "          _id                                     Area_of_Origin  \\\n0      578689                                   81 - Engine Area   \n1      578690                 75 - Trash, rubbish area (outside)   \n2      578691                                                NaN   \n3      578692                 75 - Trash, rubbish area (outside)   \n4      578693                                                NaN   \n...       ...                                                ...   \n17531  596220                            49 - Other Storage Area   \n17532  596221                                                NaN   \n17533  596222                      91 - Multiple Areas of Origin   \n17534  596223                              64 - Porch or Balcony   \n17535  596224  44 - Trash, Rubbish Storage (inc garbage chute...   \n\n               Building_Status                      Business_Impact  \\\n0                          NaN                                  NaN   \n1                          NaN                                  NaN   \n2                          NaN                                  NaN   \n3      01 - Normal (no change)         1 - No business interruption   \n4                          NaN                                  NaN   \n...                        ...                                  ...   \n17531  01 - Normal (no change)         1 - No business interruption   \n17532                      NaN                                  NaN   \n17533                      NaN                                  NaN   \n17534  01 - Normal (no change)  8 - Not applicable (not a business)   \n17535  01 - Normal (no change)         1 - No business interruption   \n\n       Civilian_Casualties  Count_of_Persons_Rescued  Estimated_Dollar_Loss  \\\n0                        0                         0                15000.0   \n1                        0                         0                   50.0   \n2                        0                         0                    NaN   \n3                        0                         0                    0.0   \n4                        0                         0                    NaN   \n...                    ...                       ...                    ...   \n17531                    0                         0                    0.0   \n17532                    0                         0                    NaN   \n17533                    0                         0                25000.0   \n17534                    6                         0               100000.0   \n17535                    0                         0                  100.0   \n\n       Estimated_Number_Of_Persons_Displaced Ext_agent_app_or_defer_time  \\\n0                                        NaN         2018-02-24 21:12:00   \n1                                        NaN         2018-02-24 21:29:42   \n2                                        NaN                         NaT   \n3                                        0.0         2018-02-25 14:19:25   \n4                                        NaN                         NaT   \n...                                      ...                         ...   \n17531                                    0.0         2018-02-24 02:40:00   \n17532                                    NaN                         NaT   \n17533                                    NaN         2018-02-24 00:30:22   \n17534                                    1.0         2018-02-24 00:44:00   \n17535                                    0.0         2018-02-24 08:33:18   \n\n                                    Extent_Of_Fire  ...  \\\n0                                              NaN  ...   \n1                                              NaN  ...   \n2                                              NaN  ...   \n3                 1 - Confined to object of origin  ...   \n4                                              NaN  ...   \n...                                            ...  ...   \n17531             1 - Confined to object of origin  ...   \n17532                                          NaN  ...   \n17533                                          NaN  ...   \n17534  2 - Confined to part of room/area of origin  ...   \n17535             1 - Confined to object of origin  ...   \n\n      Smoke_Alarm_Impact_on_Persons_Evacuating_Impact_on_Evacuation  \\\n0                                                    NaN              \n1                                                    NaN              \n2                                                    NaN              \n3       8 - Not applicable: No alarm, no persons present              \n4                                                    NaN              \n...                                                  ...              \n17531  1 - All persons (at risk of injury) self evacu...              \n17532                                                NaN              \n17533                                                NaN              \n17534  1 - All persons (at risk of injury) self evacu...              \n17535  7 - Not applicable: Occupant(s) first alerted ...              \n\n                                           Smoke_Spread  \\\n0                                                   NaN   \n1                                                   NaN   \n2                                                   NaN   \n3                                     99 - Undetermined   \n4                                                   NaN   \n...                                                 ...   \n17531       2 - Confined to part of room/area of origin   \n17532                                               NaN   \n17533                                               NaN   \n17534  7 - Spread to other floors, confined to building   \n17535      4 - Spread beyond room of origin, same floor   \n\n                              Sprinkler_System_Operation  \\\n0                                                    NaN   \n1                                                    NaN   \n2                                                    NaN   \n3       8 - Not applicable - no sprinkler system present   \n4                                                    NaN   \n...                                                  ...   \n17531  3 - Did not activate: fire too small to trigge...   \n17532                                                NaN   \n17533                                                NaN   \n17534   8 - Not applicable - no sprinkler system present   \n17535             2 - Did not activate: remote from fire   \n\n               Sprinkler_System_Presence  \\\n0                                    NaN   \n1                                    NaN   \n2                                    NaN   \n3                       9 - Undetermined   \n4                                    NaN   \n...                                  ...   \n17531  1 - Full sprinkler system present   \n17532                                NaN   \n17533                                NaN   \n17534            3 - No sprinkler system   \n17535  1 - Full sprinkler system present   \n\n                               Status_of_Fire_On_Arrival      TFS_Alarm_Time  \\\n0      7 - Fully involved (total structure, vehicle, ... 2018-02-24 21:04:29   \n1                  2 - Fire with no evidence from street 2018-02-24 21:24:43   \n2                                                    NaN 2018-02-25 13:29:59   \n3      3 - Fire with smoke showing only - including v... 2018-02-25 14:13:39   \n4                                                    NaN 2018-02-25 18:20:43   \n...                                                  ...                 ...   \n17531             1 - Fire extinguished prior to arrival 2018-02-24 02:30:33   \n17532                                                NaN 2018-02-24 17:55:59   \n17533  7 - Fully involved (total structure, vehicle, ... 2018-02-24 00:15:10   \n17534  4 - Flames showing from small area (one storey... 2018-02-24 00:34:12   \n17535              2 - Fire with no evidence from street 2018-02-24 08:22:30   \n\n         TFS_Arrival_Time  TFS_Firefighter_Casualties Area_Of_Origin_No  \\\n0     2018-02-24 21:10:11                           0               81    \n1     2018-02-24 21:29:31                           0               75    \n2     2018-02-25 13:36:49                           0               NaN   \n3     2018-02-25 14:18:07                           0               75    \n4     2018-02-25 18:26:19                           0               NaN   \n...                   ...                         ...               ...   \n17531 2018-02-24 02:35:07                           0               49    \n17532 2018-02-24 18:02:26                           0               NaN   \n17533 2018-02-24 00:25:06                           0               91    \n17534 2018-02-24 00:38:47                           0               64    \n17535 2018-02-24 08:27:21                           0               44    \n\n                              Area_Of_Origin_Description  \n0                                            Engine Area  \n1                          Trash, rubbish area (outside)  \n2                                                    NaN  \n3                          Trash, rubbish area (outside)  \n4                                                    NaN  \n...                                                  ...  \n17531                                 Other Storage Area  \n17532                                                NaN  \n17533                           Multiple Areas of Origin  \n17534                                   Porch or Balcony  \n17535   Trash, Rubbish Storage (inc garbage chute roo...  \n\n[17536 rows x 43 columns]",
      "text/html": "<div>\n<style scoped>\n    .dataframe tbody tr th:only-of-type {\n        vertical-align: middle;\n    }\n\n    .dataframe tbody tr th {\n        vertical-align: top;\n    }\n\n    .dataframe thead th {\n        text-align: right;\n    }\n</style>\n<table border=\"1\" class=\"dataframe\">\n  <thead>\n    <tr style=\"text-align: right;\">\n      <th></th>\n      <th>_id</th>\n      <th>Area_of_Origin</th>\n      <th>Building_Status</th>\n      <th>Business_Impact</th>\n      <th>Civilian_Casualties</th>\n      <th>Count_of_Persons_Rescued</th>\n      <th>Estimated_Dollar_Loss</th>\n      <th>Estimated_Number_Of_Persons_Displaced</th>\n      <th>Ext_agent_app_or_defer_time</th>\n      <th>Extent_Of_Fire</th>\n      <th>...</th>\n      <th>Smoke_Alarm_Impact_on_Persons_Evacuating_Impact_on_Evacuation</th>\n      <th>Smoke_Spread</th>\n      <th>Sprinkler_System_Operation</th>\n      <th>Sprinkler_System_Presence</th>\n      <th>Status_of_Fire_On_Arrival</th>\n      <th>TFS_Alarm_Time</th>\n      <th>TFS_Arrival_Time</th>\n      <th>TFS_Firefighter_Casualties</th>\n      <th>Area_Of_Origin_No</th>\n      <th>Area_Of_Origin_Description</th>\n    </tr>\n  </thead>\n  <tbody>\n    <tr>\n      <th>0</th>\n      <td>578689</td>\n      <td>81 - Engine Area</td>\n      <td>NaN</td>\n      <td>NaN</td>\n      <td>0</td>\n      <td>0</td>\n      <td>15000.0</td>\n      <td>NaN</td>\n      <td>2018-02-24 21:12:00</td>\n      <td>NaN</td>\n      <td>...</td>\n      <td>NaN</td>\n      <td>NaN</td>\n      <td>NaN</td>\n      <td>NaN</td>\n      <td>7 - Fully involved (total structure, vehicle, ...</td>\n      <td>2018-02-24 21:04:29</td>\n      <td>2018-02-24 21:10:11</td>\n      <td>0</td>\n      <td>81</td>\n      <td>Engine Area</td>\n    </tr>\n    <tr>\n      <th>1</th>\n      <td>578690</td>\n      <td>75 - Trash, rubbish area (outside)</td>\n      <td>NaN</td>\n      <td>NaN</td>\n      <td>0</td>\n      <td>0</td>\n      <td>50.0</td>\n      <td>NaN</td>\n      <td>2018-02-24 21:29:42</td>\n      <td>NaN</td>\n      <td>...</td>\n      <td>NaN</td>\n      <td>NaN</td>\n      <td>NaN</td>\n      <td>NaN</td>\n      <td>2 - Fire with no evidence from street</td>\n      <td>2018-02-24 21:24:43</td>\n      <td>2018-02-24 21:29:31</td>\n      <td>0</td>\n      <td>75</td>\n      <td>Trash, rubbish area (outside)</td>\n    </tr>\n    <tr>\n      <th>2</th>\n      <td>578691</td>\n      <td>NaN</td>\n      <td>NaN</td>\n      <td>NaN</td>\n      <td>0</td>\n      <td>0</td>\n      <td>NaN</td>\n      <td>NaN</td>\n      <td>NaT</td>\n      <td>NaN</td>\n      <td>...</td>\n      <td>NaN</td>\n      <td>NaN</td>\n      <td>NaN</td>\n      <td>NaN</td>\n      <td>NaN</td>\n      <td>2018-02-25 13:29:59</td>\n      <td>2018-02-25 13:36:49</td>\n      <td>0</td>\n      <td>NaN</td>\n      <td>NaN</td>\n    </tr>\n    <tr>\n      <th>3</th>\n      <td>578692</td>\n      <td>75 - Trash, rubbish area (outside)</td>\n      <td>01 - Normal (no change)</td>\n      <td>1 - No business interruption</td>\n      <td>0</td>\n      <td>0</td>\n      <td>0.0</td>\n      <td>0.0</td>\n      <td>2018-02-25 14:19:25</td>\n      <td>1 - Confined to object of origin</td>\n      <td>...</td>\n      <td>8 - Not applicable: No alarm, no persons present</td>\n      <td>99 - Undetermined</td>\n      <td>8 - Not applicable - no sprinkler system present</td>\n      <td>9 - Undetermined</td>\n      <td>3 - Fire with smoke showing only - including v...</td>\n      <td>2018-02-25 14:13:39</td>\n      <td>2018-02-25 14:18:07</td>\n      <td>0</td>\n      <td>75</td>\n      <td>Trash, rubbish area (outside)</td>\n    </tr>\n    <tr>\n      <th>4</th>\n      <td>578693</td>\n      <td>NaN</td>\n      <td>NaN</td>\n      <td>NaN</td>\n      <td>0</td>\n      <td>0</td>\n      <td>NaN</td>\n      <td>NaN</td>\n      <td>NaT</td>\n      <td>NaN</td>\n      <td>...</td>\n      <td>NaN</td>\n      <td>NaN</td>\n      <td>NaN</td>\n      <td>NaN</td>\n      <td>NaN</td>\n      <td>2018-02-25 18:20:43</td>\n      <td>2018-02-25 18:26:19</td>\n      <td>0</td>\n      <td>NaN</td>\n      <td>NaN</td>\n    </tr>\n    <tr>\n      <th>...</th>\n      <td>...</td>\n      <td>...</td>\n      <td>...</td>\n      <td>...</td>\n      <td>...</td>\n      <td>...</td>\n      <td>...</td>\n      <td>...</td>\n      <td>...</td>\n      <td>...</td>\n      <td>...</td>\n      <td>...</td>\n      <td>...</td>\n      <td>...</td>\n      <td>...</td>\n      <td>...</td>\n      <td>...</td>\n      <td>...</td>\n      <td>...</td>\n      <td>...</td>\n      <td>...</td>\n    </tr>\n    <tr>\n      <th>17531</th>\n      <td>596220</td>\n      <td>49 - Other Storage Area</td>\n      <td>01 - Normal (no change)</td>\n      <td>1 - No business interruption</td>\n      <td>0</td>\n      <td>0</td>\n      <td>0.0</td>\n      <td>0.0</td>\n      <td>2018-02-24 02:40:00</td>\n      <td>1 - Confined to object of origin</td>\n      <td>...</td>\n      <td>1 - All persons (at risk of injury) self evacu...</td>\n      <td>2 - Confined to part of room/area of origin</td>\n      <td>3 - Did not activate: fire too small to trigge...</td>\n      <td>1 - Full sprinkler system present</td>\n      <td>1 - Fire extinguished prior to arrival</td>\n      <td>2018-02-24 02:30:33</td>\n      <td>2018-02-24 02:35:07</td>\n      <td>0</td>\n      <td>49</td>\n      <td>Other Storage Area</td>\n    </tr>\n    <tr>\n      <th>17532</th>\n      <td>596221</td>\n      <td>NaN</td>\n      <td>NaN</td>\n      <td>NaN</td>\n      <td>0</td>\n      <td>0</td>\n      <td>NaN</td>\n      <td>NaN</td>\n      <td>NaT</td>\n      <td>NaN</td>\n      <td>...</td>\n      <td>NaN</td>\n      <td>NaN</td>\n      <td>NaN</td>\n      <td>NaN</td>\n      <td>NaN</td>\n      <td>2018-02-24 17:55:59</td>\n      <td>2018-02-24 18:02:26</td>\n      <td>0</td>\n      <td>NaN</td>\n      <td>NaN</td>\n    </tr>\n    <tr>\n      <th>17533</th>\n      <td>596222</td>\n      <td>91 - Multiple Areas of Origin</td>\n      <td>NaN</td>\n      <td>NaN</td>\n      <td>0</td>\n      <td>0</td>\n      <td>25000.0</td>\n      <td>NaN</td>\n      <td>2018-02-24 00:30:22</td>\n      <td>NaN</td>\n      <td>...</td>\n      <td>NaN</td>\n      <td>NaN</td>\n      <td>NaN</td>\n      <td>NaN</td>\n      <td>7 - Fully involved (total structure, vehicle, ...</td>\n      <td>2018-02-24 00:15:10</td>\n      <td>2018-02-24 00:25:06</td>\n      <td>0</td>\n      <td>91</td>\n      <td>Multiple Areas of Origin</td>\n    </tr>\n    <tr>\n      <th>17534</th>\n      <td>596223</td>\n      <td>64 - Porch or Balcony</td>\n      <td>01 - Normal (no change)</td>\n      <td>8 - Not applicable (not a business)</td>\n      <td>6</td>\n      <td>0</td>\n      <td>100000.0</td>\n      <td>1.0</td>\n      <td>2018-02-24 00:44:00</td>\n      <td>2 - Confined to part of room/area of origin</td>\n      <td>...</td>\n      <td>1 - All persons (at risk of injury) self evacu...</td>\n      <td>7 - Spread to other floors, confined to building</td>\n      <td>8 - Not applicable - no sprinkler system present</td>\n      <td>3 - No sprinkler system</td>\n      <td>4 - Flames showing from small area (one storey...</td>\n      <td>2018-02-24 00:34:12</td>\n      <td>2018-02-24 00:38:47</td>\n      <td>0</td>\n      <td>64</td>\n      <td>Porch or Balcony</td>\n    </tr>\n    <tr>\n      <th>17535</th>\n      <td>596224</td>\n      <td>44 - Trash, Rubbish Storage (inc garbage chute...</td>\n      <td>01 - Normal (no change)</td>\n      <td>1 - No business interruption</td>\n      <td>0</td>\n      <td>0</td>\n      <td>100.0</td>\n      <td>0.0</td>\n      <td>2018-02-24 08:33:18</td>\n      <td>1 - Confined to object of origin</td>\n      <td>...</td>\n      <td>7 - Not applicable: Occupant(s) first alerted ...</td>\n      <td>4 - Spread beyond room of origin, same floor</td>\n      <td>2 - Did not activate: remote from fire</td>\n      <td>1 - Full sprinkler system present</td>\n      <td>2 - Fire with no evidence from street</td>\n      <td>2018-02-24 08:22:30</td>\n      <td>2018-02-24 08:27:21</td>\n      <td>0</td>\n      <td>44</td>\n      <td>Trash, Rubbish Storage (inc garbage chute roo...</td>\n    </tr>\n  </tbody>\n</table>\n<p>17536 rows × 43 columns</p>\n</div>"
     },
     "execution_count": 15,
     "metadata": {},
     "output_type": "execute_result"
    }
   ],
   "source": [
    "# column_split(fire_data, 'Area_of_Origin', 'Area_Of_Origin_No', 'Area_Of_Origin_Descr')\n",
    "# fire_data"
   ],
   "metadata": {
    "collapsed": false
   }
  },
  {
   "cell_type": "code",
   "execution_count": 15,
   "outputs": [],
   "source": [],
   "metadata": {
    "collapsed": false
   }
  }
 ],
 "metadata": {
  "kernelspec": {
   "display_name": "Python 3 (ipykernel)",
   "language": "python",
   "name": "python3"
  },
  "language_info": {
   "codemirror_mode": {
    "name": "ipython",
    "version": 3
   },
   "file_extension": ".py",
   "mimetype": "text/x-python",
   "name": "python",
   "nbconvert_exporter": "python",
   "pygments_lexer": "ipython3",
   "version": "3.9.12"
  }
 },
 "nbformat": 4,
 "nbformat_minor": 5
}
